{
 "cells": [
  {
   "cell_type": "code",
   "execution_count": null,
   "id": "c417f833-daf9-4669-8a2a-32c682d10de0",
   "metadata": {},
   "outputs": [],
   "source": [
    "my_list = [10, 20.5, \"Hello\", True, 30]\n",
    "print(\"List Elements:\")\n",
    "print(\"Element at index 0:\", my_list[0])  # Accessing the first element\n",
    "print(\"Element at index 2:\", my_list[2])  # Accessing the third element\n",
    "print(\"Element at index -1:\", my_list[-1])  # Accessing the last element\n",
    "\n",
    "my_tuple = (100, \"Python\", 3.14, False, \"Jupyter\")\n",
    "\n",
    "# Accessing elements in the Tuple\n",
    "print(\"\\nTuple Elements:\")\n",
    "print(\"Element at index 1:\", my_tuple[1])  # Accessing the second element\n",
    "print(\"Element at index 3:\", my_tuple[3])  # Accessing the fourth element\n",
    "print(\"Element at index -2:\", my_tuple[-2])  # Accessing the second last element\n",
    "\n",
    "# Creating a Dictionary with 5 key-value pairs\n",
    "my_dict = {\"name\": \"Alice\", \"age\": 25, \"city\": \"New York\", \"is_student\": False, \"courses\": [\"Math\", \"Science\"]}\n",
    "\n",
    "# Accessing elements in the Dictionary\n",
    "print(\"\\nDictionary Elements:\")\n",
    "print(\"Value of 'name':\", my_dict[\"name\"])  # Accessing value using key 'name'\n",
    "print(\"Value of 'age':\", my_dict[\"age\"])  # Accessing value using key 'age'\n",
    "print(\"Value of 'courses':\", my_dict[\"courses\"])  # Accessing value using key 'courses'\n"
   ]
  }
 ],
 "metadata": {
  "kernelspec": {
   "display_name": "Python 3 (ipykernel)",
   "language": "python",
   "name": "python3"
  },
  "language_info": {
   "codemirror_mode": {
    "name": "ipython",
    "version": 3
   },
   "file_extension": ".py",
   "mimetype": "text/x-python",
   "name": "python",
   "nbconvert_exporter": "python",
   "pygments_lexer": "ipython3",
   "version": "3.12.7"
  }
 },
 "nbformat": 4,
 "nbformat_minor": 5
}
