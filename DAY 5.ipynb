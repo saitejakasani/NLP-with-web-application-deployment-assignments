{
 "cells": [
  {
   "cell_type": "code",
   "execution_count": null,
   "id": "62aa2bc9-03ab-46c6-8dd5-22dba9eeb0d8",
   "metadata": {},
   "outputs": [],
   "source": [
    "text = input(\"Enter a text: \")\n",
    "words = text.lower().split()\n",
    "word_count = {}\n",
    "for word in words:\n",
    "    if word in word_count:\n",
    "        word_count[word] += 1\n",
    "    else:\n",
    "        word_count[word] = 1\n",
    "print(\"\\nWord Frequencies:\")\n",
    "for word, count in word_count.items():\n",
    "    print(f\"{word}: {count}\")"
   ]
  },
  {
   "cell_type": "code",
   "execution_count": null,
   "id": "c3386ebc-3e93-49fa-a91a-3ae3c4d35278",
   "metadata": {},
   "outputs": [],
   "source": []
  }
 ],
 "metadata": {
  "kernelspec": {
   "display_name": "Python 3 (ipykernel)",
   "language": "python",
   "name": "python3"
  },
  "language_info": {
   "codemirror_mode": {
    "name": "ipython",
    "version": 3
   },
   "file_extension": ".py",
   "mimetype": "text/x-python",
   "name": "python",
   "nbconvert_exporter": "python",
   "pygments_lexer": "ipython3",
   "version": "3.12.7"
  }
 },
 "nbformat": 4,
 "nbformat_minor": 5
}
