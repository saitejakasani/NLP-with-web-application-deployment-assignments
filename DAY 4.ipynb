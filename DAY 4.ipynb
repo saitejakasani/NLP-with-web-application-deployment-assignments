{
 "cells": [
  {
   "cell_type": "code",
   "execution_count": 1,
   "id": "bb09d589-da12-4fa9-b8c8-a8f9ec8e5999",
   "metadata": {},
   "outputs": [
    {
     "name": "stdin",
     "output_type": "stream",
     "text": [
      "Enter a positive integer:  90\n"
     ]
    },
    {
     "name": "stdout",
     "output_type": "stream",
     "text": [
      "The sum of all even numbers between 1 and 90 is: 2070\n"
     ]
    }
   ],
   "source": [
    "n = int(input(\"Enter a positive integer: \"))\n",
    "sum_of_evens = 0\n",
    "for num in range(2, n+1, 2):\n",
    "    sum_of_evens += num\n",
    "print(f\"The sum of all even numbers between 1 and {n} is: {sum_of_evens}\")"
   ]
  },
  {
   "cell_type": "code",
   "execution_count": null,
   "id": "7e092b02-473b-4d6c-94e0-39b046217a4e",
   "metadata": {},
   "outputs": [],
   "source": []
  }
 ],
 "metadata": {
  "kernelspec": {
   "display_name": "Python 3 (ipykernel)",
   "language": "python",
   "name": "python3"
  },
  "language_info": {
   "codemirror_mode": {
    "name": "ipython",
    "version": 3
   },
   "file_extension": ".py",
   "mimetype": "text/x-python",
   "name": "python",
   "nbconvert_exporter": "python",
   "pygments_lexer": "ipython3",
   "version": "3.12.7"
  }
 },
 "nbformat": 4,
 "nbformat_minor": 5
}
