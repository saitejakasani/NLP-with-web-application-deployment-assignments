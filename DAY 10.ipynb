{
 "cells": [
  {
   "cell_type": "code",
   "execution_count": null,
   "id": "042e91aa-e33d-4e1b-b29f-b9f5e3e461d4",
   "metadata": {},
   "outputs": [],
   "source": [
    "import re\n",
    "def extract_emails(text):\n",
    "    email_pattern = r'[a-zA-Z0-9._%+-]+@[a-zA-Z0-9.-]+\\.[a-zA-Z]{2,}'\n",
    "    emails = re.findall(email_pattern, text)\n",
    "    \n",
    "    return emails\n",
    "\n",
    "# Test the function with the given input\n",
    "input_text = 'Contact us at support@example.com and sales@example.org.'\n",
    "emails = extract_emails(input_text)\n",
    "\n",
    "# Display the extracted emails\n",
    "print(\"Extracted Email Addresses:\", emails)\n"
   ]
  }
 ],
 "metadata": {
  "kernelspec": {
   "display_name": "Python 3 (ipykernel)",
   "language": "python",
   "name": "python3"
  },
  "language_info": {
   "codemirror_mode": {
    "name": "ipython",
    "version": 3
   },
   "file_extension": ".py",
   "mimetype": "text/x-python",
   "name": "python",
   "nbconvert_exporter": "python",
   "pygments_lexer": "ipython3",
   "version": "3.12.7"
  }
 },
 "nbformat": 4,
 "nbformat_minor": 5
}
